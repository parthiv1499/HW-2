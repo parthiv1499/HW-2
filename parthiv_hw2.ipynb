{
 "cells": [
  {
   "cell_type": "markdown",
   "id": "a6a98f43",
   "metadata": {},
   "source": [
    "## Part 2"
   ]
  },
  {
   "cell_type": "code",
   "execution_count": 48,
   "id": "c2d7a9a4",
   "metadata": {},
   "outputs": [
    {
     "data": {
      "text/html": [
       "<div>\n",
       "<style scoped>\n",
       "    .dataframe tbody tr th:only-of-type {\n",
       "        vertical-align: middle;\n",
       "    }\n",
       "\n",
       "    .dataframe tbody tr th {\n",
       "        vertical-align: top;\n",
       "    }\n",
       "\n",
       "    .dataframe thead th {\n",
       "        text-align: right;\n",
       "    }\n",
       "</style>\n",
       "<table border=\"1\" class=\"dataframe\">\n",
       "  <thead>\n",
       "    <tr style=\"text-align: right;\">\n",
       "      <th></th>\n",
       "      <th>Model</th>\n",
       "      <th>Parametric or Non-parametric</th>\n",
       "      <th>Input</th>\n",
       "      <th>Output</th>\n",
       "      <th>Handle Missing Value</th>\n",
       "      <th>Model Representation</th>\n",
       "      <th>Model Parameters</th>\n",
       "      <th>More Complex</th>\n",
       "      <th>Less Complex</th>\n",
       "      <th>Interpretable or Transparent</th>\n",
       "    </tr>\n",
       "  </thead>\n",
       "  <tbody>\n",
       "    <tr>\n",
       "      <th>0</th>\n",
       "      <td>Decision Tree</td>\n",
       "      <td>Non-parametric</td>\n",
       "      <td>Both</td>\n",
       "      <td>Both</td>\n",
       "      <td>Yes</td>\n",
       "      <td>Tree</td>\n",
       "      <td>Max Depth, Minimum Split Samples</td>\n",
       "      <td>Decrease Pruning</td>\n",
       "      <td>Increase Pruning</td>\n",
       "      <td>Interpretable</td>\n",
       "    </tr>\n",
       "    <tr>\n",
       "      <th>1</th>\n",
       "      <td>Naive Bayes</td>\n",
       "      <td>Parametric</td>\n",
       "      <td>Both</td>\n",
       "      <td>Discrete</td>\n",
       "      <td>Yes</td>\n",
       "      <td>Probabilities</td>\n",
       "      <td>Prior, Likelihood</td>\n",
       "      <td>Add more features</td>\n",
       "      <td>Reduce Features</td>\n",
       "      <td>Interpretable</td>\n",
       "    </tr>\n",
       "    <tr>\n",
       "      <th>2</th>\n",
       "      <td>K-Nearest Neighbour</td>\n",
       "      <td>Non-parametric</td>\n",
       "      <td>Both</td>\n",
       "      <td>Discrete</td>\n",
       "      <td>Yes</td>\n",
       "      <td>Instances</td>\n",
       "      <td>Number of Neighbors</td>\n",
       "      <td>Decrease K</td>\n",
       "      <td>Increase K</td>\n",
       "      <td>Non Interpretable</td>\n",
       "    </tr>\n",
       "    <tr>\n",
       "      <th>3</th>\n",
       "      <td>Logistic Regression</td>\n",
       "      <td>Parametric</td>\n",
       "      <td>Both</td>\n",
       "      <td>Discrete</td>\n",
       "      <td>No</td>\n",
       "      <td>Equation</td>\n",
       "      <td>Weights</td>\n",
       "      <td>Add Features</td>\n",
       "      <td>Remove Features</td>\n",
       "      <td>Interpretable</td>\n",
       "    </tr>\n",
       "    <tr>\n",
       "      <th>4</th>\n",
       "      <td>SVM</td>\n",
       "      <td>Parametric</td>\n",
       "      <td>Both</td>\n",
       "      <td>Discrete</td>\n",
       "      <td>No</td>\n",
       "      <td>Hyperplane</td>\n",
       "      <td>Kernel</td>\n",
       "      <td>Use complex Kernels</td>\n",
       "      <td>Use simple Kernels</td>\n",
       "      <td>No</td>\n",
       "    </tr>\n",
       "  </tbody>\n",
       "</table>\n",
       "</div>"
      ],
      "text/plain": [
       "                 Model Parametric or Non-parametric Input    Output  \\\n",
       "0        Decision Tree               Non-parametric  Both      Both   \n",
       "1          Naive Bayes                   Parametric  Both  Discrete   \n",
       "2  K-Nearest Neighbour               Non-parametric  Both  Discrete   \n",
       "3  Logistic Regression                   Parametric  Both  Discrete   \n",
       "4                  SVM                   Parametric  Both  Discrete   \n",
       "\n",
       "  Handle Missing Value Model Representation                  Model Parameters  \\\n",
       "0                  Yes                 Tree  Max Depth, Minimum Split Samples   \n",
       "1                  Yes        Probabilities                 Prior, Likelihood   \n",
       "2                  Yes            Instances               Number of Neighbors   \n",
       "3                   No             Equation                           Weights   \n",
       "4                   No           Hyperplane                            Kernel   \n",
       "\n",
       "          More Complex        Less Complex Interpretable or Transparent  \n",
       "0     Decrease Pruning    Increase Pruning                Interpretable  \n",
       "1    Add more features     Reduce Features                Interpretable  \n",
       "2           Decrease K          Increase K            Non Interpretable  \n",
       "3         Add Features     Remove Features                Interpretable  \n",
       "4  Use complex Kernels  Use simple Kernels                           No  "
      ]
     },
     "execution_count": 48,
     "metadata": {},
     "output_type": "execute_result"
    }
   ],
   "source": [
    "import pandas as pd\n",
    "\n",
    "# Define the model properties\n",
    "model_properties = {\n",
    "    \"Model\": [\"Decision Tree\", \"Naive Bayes\", \"K-Nearest Neighbour\", \"Logistic Regression\", \"SVM\"],\n",
    "    \"Parametric or Non-parametric\": [\"Non-parametric\", \"Parametric\", \"Non-parametric\", \"Parametric\", \"Non-Parametric\"],\n",
    "    \"Input\": [\"Both\", \"Both\", \"Both\", \"Both\", \"Both\"],\n",
    "    \"Output\": [\"Both\", \"Discrete\", \"Discrete\", \"Discrete\", \"Discrete\"],\n",
    "    \"Handle Missing Value\": [\"Yes\", \"Yes\", \"Yes\", \"No\", \"No\"],\n",
    "    \"Model Representation\": [\"Tree\", \"Probabilities\", \"Instances\", \"Equation\", \"Hyperplane\"],\n",
    "    \"Model Parameters\": [\"Max Depth, Minimum Split Samples\", \"Prior, Likelihood\", \"Number of Neighbors\", \"Weights\", \"Kernel\"],\n",
    "    \"More Complex\": [\"Decrease Pruning\", \"Add more features\", \"Decrease K\", \"Add Features\", \"Use complex Kernels\"],\n",
    "    \"Less Complex\": [\"Increase Pruning\", \"Reduce Features\", \"Increase K\", \"Remove Features\", \"Use simple Kernels\"],\n",
    "    \"Interpretable or Transparent\": [\"Interpretable\", \"Interpretable\", \"Non Interpretable\", \"Interpretable\", \"Non Interpretable\"]\n",
    "}\n",
    "\n",
    "# Convert the dictionary to a DataFrame\n",
    "model_df = pd.DataFrame(model_properties)\n",
    "\n",
    "model_df\n"
   ]
  },
  {
   "cell_type": "markdown",
   "id": "e6d53d11",
   "metadata": {},
   "source": [
    "## Part 3"
   ]
  },
  {
   "cell_type": "markdown",
   "id": "4436723a",
   "metadata": {},
   "source": [
    "### Python Task 1 (Profiling and saving as HTML)"
   ]
  },
  {
   "cell_type": "code",
   "execution_count": 3,
   "id": "1b6733fd",
   "metadata": {},
   "outputs": [],
   "source": [
    "import numpy as np\n",
    "import pandas as pd\n",
    "from ydata_profiling import ProfileReport\n",
    "\n",
    "red_wine_df = pd.read_csv(\"red_wine.csv\")\n",
    "\n",
    "profile = ProfileReport(red_wine_df, title=\"Profiling Report\")"
   ]
  },
  {
   "cell_type": "code",
   "execution_count": 5,
   "id": "eeda5193",
   "metadata": {},
   "outputs": [
    {
     "data": {
      "application/vnd.jupyter.widget-view+json": {
       "model_id": "e9af2ae094624d0c9c269a6e7c50f6cb",
       "version_major": 2,
       "version_minor": 0
      },
      "text/plain": [
       "Export report to file:   0%|          | 0/1 [00:00<?, ?it/s]"
      ]
     },
     "metadata": {},
     "output_type": "display_data"
    }
   ],
   "source": [
    "profile.to_file(\"red_wine_report.html\")"
   ]
  },
  {
   "cell_type": "markdown",
   "id": "7f7d2d63",
   "metadata": {},
   "source": [
    "### Python Task 2"
   ]
  },
  {
   "cell_type": "code",
   "execution_count": 7,
   "id": "34025086",
   "metadata": {},
   "outputs": [
    {
     "data": {
      "text/html": [
       "<div>\n",
       "<style scoped>\n",
       "    .dataframe tbody tr th:only-of-type {\n",
       "        vertical-align: middle;\n",
       "    }\n",
       "\n",
       "    .dataframe tbody tr th {\n",
       "        vertical-align: top;\n",
       "    }\n",
       "\n",
       "    .dataframe thead th {\n",
       "        text-align: right;\n",
       "    }\n",
       "</style>\n",
       "<table border=\"1\" class=\"dataframe\">\n",
       "  <thead>\n",
       "    <tr style=\"text-align: right;\">\n",
       "      <th></th>\n",
       "      <th>citric acid</th>\n",
       "      <th>sulphates</th>\n",
       "      <th>alcohol</th>\n",
       "      <th>type</th>\n",
       "    </tr>\n",
       "  </thead>\n",
       "  <tbody>\n",
       "    <tr>\n",
       "      <th>0</th>\n",
       "      <td>0.49</td>\n",
       "      <td>0.63</td>\n",
       "      <td>8.0</td>\n",
       "      <td>low</td>\n",
       "    </tr>\n",
       "    <tr>\n",
       "      <th>1</th>\n",
       "      <td>0.66</td>\n",
       "      <td>0.57</td>\n",
       "      <td>8.3</td>\n",
       "      <td>low</td>\n",
       "    </tr>\n",
       "    <tr>\n",
       "      <th>2</th>\n",
       "      <td>0.23</td>\n",
       "      <td>0.44</td>\n",
       "      <td>8.5</td>\n",
       "      <td>high</td>\n",
       "    </tr>\n",
       "    <tr>\n",
       "      <th>3</th>\n",
       "      <td>0.44</td>\n",
       "      <td>0.84</td>\n",
       "      <td>8.6</td>\n",
       "      <td>low</td>\n",
       "    </tr>\n",
       "    <tr>\n",
       "      <th>4</th>\n",
       "      <td>0.08</td>\n",
       "      <td>0.50</td>\n",
       "      <td>8.7</td>\n",
       "      <td>low</td>\n",
       "    </tr>\n",
       "  </tbody>\n",
       "</table>\n",
       "</div>"
      ],
      "text/plain": [
       "   citric acid  sulphates  alcohol  type\n",
       "0         0.49       0.63      8.0   low\n",
       "1         0.66       0.57      8.3   low\n",
       "2         0.23       0.44      8.5  high\n",
       "3         0.44       0.84      8.6   low\n",
       "4         0.08       0.50      8.7   low"
      ]
     },
     "execution_count": 7,
     "metadata": {},
     "output_type": "execute_result"
    }
   ],
   "source": [
    "import pandas as pd\n",
    "wine_data = pd.read_csv('red_wine.csv')\n",
    "\n",
    "wine_data.head()"
   ]
  },
  {
   "cell_type": "code",
   "execution_count": 34,
   "id": "6dfa634d",
   "metadata": {
    "scrolled": true
   },
   "outputs": [
    {
     "name": "stdout",
     "output_type": "stream",
     "text": [
      "      Model       AUC  Accuracy\n",
      "0  Baseline  0.500000  0.528897\n",
      "1        LR  0.879902  0.784785\n",
      "2        NB  0.895408  0.821627\n",
      "3        DT  0.738499  0.760254\n",
      "4       SVM  0.868920  0.535844\n",
      "5        RF  0.889864  0.798851\n"
     ]
    }
   ],
   "source": [
    "from sklearn.model_selection import cross_val_score\n",
    "from sklearn.linear_model import LogisticRegression\n",
    "from sklearn.naive_bayes import GaussianNB\n",
    "from sklearn.tree import DecisionTreeClassifier\n",
    "from sklearn.svm import SVC\n",
    "from sklearn.ensemble import RandomForestClassifier\n",
    "from sklearn.metrics import roc_auc_score, accuracy_score\n",
    "\n",
    "X = wine_data.drop(columns=['type'])\n",
    "y = wine_data['type']\n",
    "\n",
    "models = {\n",
    "    'Baseline': None,\n",
    "    'LR': LogisticRegression(),\n",
    "    'NB': GaussianNB(),\n",
    "    'DT': DecisionTreeClassifier(),\n",
    "    'SVM': SVC(probability=True),\n",
    "    'RF': RandomForestClassifier()\n",
    "}\n",
    "\n",
    "results = {'Model': [], 'AUC': [], 'Accuracy': []}\n",
    "for model_name, model in models.items():\n",
    "    if model_name == 'Baseline':\n",
    "        baseline_accuracy = (y.value_counts() / len(y)).max()\n",
    "        results['Model'].append(model_name)\n",
    "        results['AUC'].append(0.5)  # Baseline AUC is 0.5\n",
    "        results['Accuracy'].append(baseline_accuracy)\n",
    "    else:\n",
    "        auc_scores = cross_val_score(model, X, y, cv=10, scoring='roc_auc')\n",
    "        accuracy_scores = cross_val_score(model, X, y, cv=10, scoring='accuracy')\n",
    "        \n",
    "        results['Model'].append(model_name)\n",
    "        results['AUC'].append(auc_scores.mean())\n",
    "        results['Accuracy'].append(accuracy_scores.mean())\n",
    "\n",
    "results_df = pd.DataFrame(results)\n",
    "print(results_df)\n"
   ]
  },
  {
   "cell_type": "markdown",
   "id": "7405fd3e",
   "metadata": {},
   "source": [
    "### Question 3"
   ]
  },
  {
   "cell_type": "code",
   "execution_count": 35,
   "id": "17e695d9",
   "metadata": {},
   "outputs": [],
   "source": [
    "%matplotlib inline"
   ]
  },
  {
   "cell_type": "code",
   "execution_count": 45,
   "id": "9df12f4f",
   "metadata": {
    "scrolled": false
   },
   "outputs": [
    {
     "data": {
      "image/png": "[encoded data removed]",
      "text/plain": [
       "<Figure size 640x480 with 1 Axes>"
      ]
     },
     "metadata": {},
     "output_type": "display_data"
    }
   ],
   "source": [
    "from sklearn.model_selection import cross_val_score, train_test_split\n",
    "from sklearn.metrics import roc_auc_score, accuracy_score, roc_curve, auc\n",
    "import matplotlib.pyplot as plt\n",
    "rf_classifier = models['RF']\n",
    "X_train, X_test, y_train, y_test = train_test_split(X, y, test_size=0.2, random_state=42)\n",
    "rf_classifier.fit(X_train, y_train)\n",
    "\n",
    "y_pred_prob = rf_classifier.predict_proba(X_test)[:, 1]\n",
    "fpr, tpr, thresholds = roc_curve(y_test, y_pred_prob,pos_label='low')\n",
    "roc_auc = auc(fpr, tpr)\n",
    "\n",
    "plt.figure()\n",
    "plt.plot(fpr, tpr, color='darkorange', lw=2, label='ROC curve (area = %0.2f)' % roc_auc)\n",
    "plt.plot([0, 1], [0, 1], color='navy', lw=2, linestyle='--')\n",
    "plt.xlim([0.0, 1.0])\n",
    "plt.ylim([0.0, 1.05])\n",
    "plt.xlabel('False Positive Rate')\n",
    "plt.ylabel('True Positive Rate')\n",
    "plt.title('ROC Curve for Random Forest Classifier')\n",
    "plt.legend(loc='lower right')\n",
    "plt.show()"
   ]
  },
  {
   "cell_type": "markdown",
   "id": "0aec4602",
   "metadata": {},
   "source": [
    "### Question 4"
   ]
  },
  {
   "cell_type": "code",
   "execution_count": 46,
   "id": "937997e4",
   "metadata": {},
   "outputs": [
    {
     "name": "stdout",
     "output_type": "stream",
     "text": [
      "ROC Auc score is:  0.9488910318225652\n"
     ]
    }
   ],
   "source": [
    "import pandas as pd\n",
    "from sklearn.naive_bayes import GaussianNB\n",
    "from sklearn.metrics import roc_auc_score\n",
    "\n",
    "white_wine_df = pd.read_csv(\"white_wine.csv\")\n",
    "\n",
    "white_wine_df['type_encoded'] = white_wine_df['type'].map({'low': 0, 'high': 1})\n",
    "\n",
    "X_white = white_wine_df[['citric acid', 'sulphates', 'alcohol']]\n",
    "y_white = white_wine_df['type_encoded']\n",
    "\n",
    "nb_model = GaussianNB()\n",
    "nb_model.fit(X_red, y_red)\n",
    "\n",
    "y_white_prob_nb = nb_model.predict_proba(X_white)[:, 1]\n",
    "\n",
    "white_auc_nb = roc_auc_score(y_white, y_white_prob_nb)\n",
    "print(\"ROC Auc score is: \",white_auc_nb)"
   ]
  },
  {
   "cell_type": "markdown",
   "id": "f46f0af8",
   "metadata": {},
   "source": [
    "### Question 5"
   ]
  },
  {
   "cell_type": "markdown",
   "id": "7872b6e2",
   "metadata": {},
   "source": [
    "Based on the performance metrics I observed for the red-wine.csv dataset, it's clear that the Naïve Bayes (NB) model stood out with the highest AUC score (0.895408) and accuracy (0.821627) during our 10-fold cross-validation experiment. So i used Naive Bayes to get the auc score for white-wine csv\n",
    "\n",
    "Interestingly, when I used the Naïve Bayes model on the white-wine.csv dataset, I was surprised to find that it achieved AUC score of 0.9489. This score is higher than its performance on the red-wine.csv dataset, suggesting that the Naïve Bayes model may generalize well to the white-wine dataset.\n",
    "\n",
    "Now, when it comes to selecting a model to provide insights to wine-tasting experts, assuming all models have similar performance, I'd consider the 'decision-making' factor. Decision Tree (DT) and Naïve Bayes (NB) models tend to be more 'understandable' compared to ensemble models like Random Forest (RF) or complex models like Support Vector Machine (SVM).\n",
    "\n",
    "So, if I were to choose a model for the experts to gain insights from, I'd lean towards the Decision Tree or Naïve Bayes models. These models can offer more transparent explanations of how they arrive at their predictions, which can be incredibly valuable for experts seeking to understand the key factors influencing wine quality."
   ]
  },
  {
   "cell_type": "code",
   "execution_count": null,
   "id": "6821a353",
   "metadata": {},
   "outputs": [],
   "source": []
  }
 ],
 "metadata": {
  "kernelspec": {
   "display_name": "Python 3 (ipykernel)",
   "language": "python",
   "name": "python3"
  },
  "language_info": {
   "codemirror_mode": {
    "name": "ipython",
    "version": 3
   },
   "file_extension": ".py",
   "mimetype": "text/x-python",
   "name": "python",
   "nbconvert_exporter": "python",
   "pygments_lexer": "ipython3",
   "version": "3.11.4"
  }
 },
 "nbformat": 4,
 "nbformat_minor": 5
}
